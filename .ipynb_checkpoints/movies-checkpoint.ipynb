{
 "cells": [
  {
   "cell_type": "code",
   "execution_count": 1,
   "id": "0afb83a3",
   "metadata": {},
   "outputs": [],
   "source": [
    "import numpy as np\n",
    "import pandas as pd\n",
    "import json"
   ]
  },
  {
   "cell_type": "code",
   "execution_count": 5,
   "id": "517c5c1f",
   "metadata": {},
   "outputs": [],
   "source": [
    "file_dir = \"C://Users/Rowan/DnA_Course/SQL/Movies-ETL/\""
   ]
  },
  {
   "cell_type": "code",
   "execution_count": 6,
   "id": "11a215ab",
   "metadata": {},
   "outputs": [],
   "source": [
    "with open(f'{file_dir}wikipedia-movies.json', mode=\"r\") as file:\n",
    "          wiki_movies_raw = json.load(file)"
   ]
  },
  {
   "cell_type": "code",
   "execution_count": 7,
   "id": "628aa84a",
   "metadata": {},
   "outputs": [
    {
     "data": {
      "text/plain": [
       "7311"
      ]
     },
     "execution_count": 7,
     "metadata": {},
     "output_type": "execute_result"
    }
   ],
   "source": [
    "len(wiki_movies_raw)"
   ]
  },
  {
   "cell_type": "code",
   "execution_count": 8,
   "id": "7bbb8bae",
   "metadata": {},
   "outputs": [
    {
     "data": {
      "text/plain": [
       "[{'url': 'https://en.wikipedia.org/wiki/Human_Nature_(2001_film)',\n",
       "  'year': 2001,\n",
       "  'imdb_link': 'https://www.imdb.com/title/tt0219822/',\n",
       "  'title': 'Human Nature',\n",
       "  'Directed by': 'Michel Gondry',\n",
       "  'Produced by': ['Anthony Bregman',\n",
       "   'Ted Hope',\n",
       "   'Spike Jonze',\n",
       "   'Charlie Kaufman'],\n",
       "  'Written by': 'Charlie Kaufman',\n",
       "  'Starring': ['Tim Robbins',\n",
       "   'Patricia Arquette',\n",
       "   'Rhys Ifans',\n",
       "   'Miranda Otto',\n",
       "   'Rosie Perez'],\n",
       "  'Music by': 'Graeme Revell',\n",
       "  'Cinematography': 'Tim Maurice-Jones',\n",
       "  'Edited by': 'Russell Icke',\n",
       "  'Productioncompany ': ['StudioCanal', 'Good Machine'],\n",
       "  'Distributed by': ['Fine Line Features',\n",
       "   '(United States)',\n",
       "   'BAC Films',\n",
       "   '(France)'],\n",
       "  'Release date': ['May 18, 2001',\n",
       "   '(',\n",
       "   '2001-05-18',\n",
       "   ')',\n",
       "   '(',\n",
       "   'Cannes',\n",
       "   ')',\n",
       "   'September 12, 2001',\n",
       "   '(',\n",
       "   '2001-09-12',\n",
       "   ')',\n",
       "   '(France)',\n",
       "   'April 12, 2002',\n",
       "   '(',\n",
       "   '2002-04-12',\n",
       "   ')',\n",
       "   '(United States)'],\n",
       "  'Running time': '96 minutes',\n",
       "  'Country': ['United States', 'France', '[1]'],\n",
       "  'Language': 'English',\n",
       "  'Budget': '$8.6 million',\n",
       "  'Box office': '$1.6 million'},\n",
       " {'url': 'https://en.wikipedia.org/wiki/I_Am_Sam',\n",
       "  'year': 2001,\n",
       "  'imdb_link': 'https://www.imdb.com/title/tt0277027/',\n",
       "  'title': 'I Am Sam',\n",
       "  'Directed by': 'Jessie Nelson',\n",
       "  'Produced by': ['Jessie Nelson',\n",
       "   'Richard Solomon',\n",
       "   'Edward Zwick',\n",
       "   'Marshall Herskovitz'],\n",
       "  'Written by': ['Kristine Johnson', 'Jessie Nelson'],\n",
       "  'Starring': ['Sean Penn',\n",
       "   'Michelle Pfeiffer',\n",
       "   'Dianne Wiest',\n",
       "   'Dakota Fanning',\n",
       "   'Richard Schiff',\n",
       "   'Loretta Devine',\n",
       "   'Laura Dern'],\n",
       "  'Music by': 'John Powell',\n",
       "  'Cinematography': 'Elliot Davis',\n",
       "  'Edited by': 'Richard Chew',\n",
       "  'Productioncompany ': 'The Bedford Falls Company',\n",
       "  'Distributed by': 'New Line Cinema',\n",
       "  'Release date': ['December 28, 2001', '(', '2001-12-28', ')'],\n",
       "  'Running time': '134 minutes',\n",
       "  'Country': 'United States',\n",
       "  'Language': 'English',\n",
       "  'Budget': '$22 million',\n",
       "  'Box office': '$97,818,139'},\n",
       " {'url': 'https://en.wikipedia.org/wiki/In_the_Bedroom',\n",
       "  'year': 2001,\n",
       "  'imdb_link': 'https://www.imdb.com/title/tt0247425/',\n",
       "  'title': 'In the Bedroom',\n",
       "  'Directed by': 'Todd Field',\n",
       "  'Produced by': ['Todd Field', 'Ross Katz', 'Graham Leader'],\n",
       "  'Screenplay by': ['Todd Field', 'Robert Festinger'],\n",
       "  'Based on': ['\"', 'Killings', '\"', 'by', 'Andre Dubus'],\n",
       "  'Starring': ['Sissy Spacek', 'Tom Wilkinson', 'Nick Stahl', 'Marisa Tomei'],\n",
       "  'Music by': 'Thomas Newman',\n",
       "  'Cinematography': 'Antonio Calvache',\n",
       "  'Edited by': 'Frank Reynolds',\n",
       "  'Productioncompany ': ['Good Machine',\n",
       "   'Eastern Standard Film Company',\n",
       "   'GreeneStreet Films'],\n",
       "  'Distributed by': 'Miramax Films',\n",
       "  'Release date': ['November 23, 2001', '(', '2001-11-23', ')'],\n",
       "  'Running time': '131 minutes',\n",
       "  'Country': 'United States',\n",
       "  'Language': 'English',\n",
       "  'Budget': '$1.7 million',\n",
       "  'Box office': '$43.4 million'}]"
      ]
     },
     "execution_count": 8,
     "metadata": {},
     "output_type": "execute_result"
    }
   ],
   "source": [
    "wiki_movies_raw[3000:3003]"
   ]
  },
  {
   "cell_type": "code",
   "execution_count": 9,
   "id": "695f3a8b",
   "metadata": {},
   "outputs": [],
   "source": [
    "kaggle_metadata = pd.read_csv(f'{file_dir}movies_metadata.csv', low_memory=False)\n",
    "ratings = pd.read_csv(f'{file_dir}ratings.csv')"
   ]
  },
  {
   "cell_type": "code",
   "execution_count": null,
   "id": "a6c32cc8",
   "metadata": {},
   "outputs": [],
   "source": []
  },
  {
   "cell_type": "code",
   "execution_count": null,
   "id": "b0918ec6",
   "metadata": {},
   "outputs": [],
   "source": []
  },
  {
   "cell_type": "code",
   "execution_count": null,
   "id": "f0eaecd4",
   "metadata": {},
   "outputs": [],
   "source": []
  },
  {
   "cell_type": "code",
   "execution_count": null,
   "id": "ab8427d7",
   "metadata": {},
   "outputs": [],
   "source": []
  },
  {
   "cell_type": "code",
   "execution_count": null,
   "id": "45c880f8",
   "metadata": {},
   "outputs": [],
   "source": []
  },
  {
   "cell_type": "code",
   "execution_count": null,
   "id": "aa32e113",
   "metadata": {},
   "outputs": [],
   "source": []
  },
  {
   "cell_type": "code",
   "execution_count": null,
   "id": "75317b1d",
   "metadata": {},
   "outputs": [],
   "source": []
  },
  {
   "cell_type": "code",
   "execution_count": null,
   "id": "b8824fdc",
   "metadata": {},
   "outputs": [],
   "source": []
  }
 ],
 "metadata": {
  "kernelspec": {
   "display_name": "Python 3 (ipykernel)",
   "language": "python",
   "name": "python3"
  },
  "language_info": {
   "codemirror_mode": {
    "name": "ipython",
    "version": 3
   },
   "file_extension": ".py",
   "mimetype": "text/x-python",
   "name": "python",
   "nbconvert_exporter": "python",
   "pygments_lexer": "ipython3",
   "version": "3.9.12"
  }
 },
 "nbformat": 4,
 "nbformat_minor": 5
}
